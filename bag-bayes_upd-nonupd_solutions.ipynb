{
 "cells": [
  {
   "cell_type": "code",
   "execution_count": 1,
   "metadata": {},
   "outputs": [],
   "source": [
    "import numpy as np\n",
    "import pandas as pd\n",
    "import matplotlib.pyplot as plt"
   ]
  },
  {
   "cell_type": "code",
   "execution_count": 2,
   "metadata": {},
   "outputs": [
    {
     "data": {
      "text/plain": [
       "array([1. , 0.9, 0.8, 0.7, 0.6, 0.5, 0.4, 0.3, 0.2, 0.1, 0. ])"
      ]
     },
     "execution_count": 2,
     "metadata": {},
     "output_type": "execute_result"
    }
   ],
   "source": [
    "no_bag_on_carousel_after_i_minutes_if_bag_on_plane = np.linspace(1, 0, 11)\n",
    "period_count = len(no_bag_on_carousel_after_i_minutes_if_bag_on_plane)\n",
    "no_bag_on_carousel_after_i_minutes_if_bag_on_plane"
   ]
  },
  {
   "cell_type": "markdown",
   "metadata": {},
   "source": [
    "# Simulation"
   ]
  },
  {
   "cell_type": "code",
   "execution_count": 3,
   "metadata": {},
   "outputs": [],
   "source": [
    "def get_bag_appearances():\n",
    "    return no_bag_on_carousel_after_i_minutes_if_bag_on_plane < np.random.rand()"
   ]
  },
  {
   "cell_type": "code",
   "execution_count": 4,
   "metadata": {},
   "outputs": [
    {
     "data": {
      "text/plain": [
       "array([False, False, False, False,  True,  True,  True,  True,  True,\n",
       "        True,  True])"
      ]
     },
     "execution_count": 4,
     "metadata": {},
     "output_type": "execute_result"
    }
   ],
   "source": [
    "get_bag_appearances()"
   ]
  },
  {
   "cell_type": "code",
   "execution_count": 5,
   "metadata": {},
   "outputs": [
    {
     "data": {
      "text/plain": [
       "0     0.0000\n",
       "1     0.1034\n",
       "2     0.2030\n",
       "3     0.3018\n",
       "4     0.4006\n",
       "5     0.4990\n",
       "6     0.5892\n",
       "7     0.6928\n",
       "8     0.7924\n",
       "9     0.8974\n",
       "10    1.0000\n",
       "dtype: float64"
      ]
     },
     "execution_count": 5,
     "metadata": {},
     "output_type": "execute_result"
    }
   ],
   "source": [
    "pd.DataFrame([get_bag_appearances() for _ in range(5000)]).mean()"
   ]
  },
  {
   "cell_type": "code",
   "execution_count": 6,
   "metadata": {},
   "outputs": [],
   "source": [
    "def sim(p_of_bag_on_plane, n=5000):\n",
    "    records = []\n",
    "    for _ in range(n):\n",
    "        bag_on_plane = np.random.rand() < p_of_bag_on_plane\n",
    "        if bag_on_plane:\n",
    "            bag_appearances = get_bag_appearances()\n",
    "        else:\n",
    "            bag_appearances = [False] * period_count\n",
    "\n",
    "        records.append([bag_on_plane, *bag_appearances])\n",
    "    return pd.DataFrame(records, columns=[\"bag_on_plane\", *range(period_count)])"
   ]
  },
  {
   "cell_type": "code",
   "execution_count": 7,
   "metadata": {},
   "outputs": [],
   "source": [
    "sim_df = sim(0.5, 20_000)"
   ]
  },
  {
   "cell_type": "code",
   "execution_count": 8,
   "metadata": {},
   "outputs": [
    {
     "data": {
      "text/html": [
       "<div>\n",
       "<style scoped>\n",
       "    .dataframe tbody tr th:only-of-type {\n",
       "        vertical-align: middle;\n",
       "    }\n",
       "\n",
       "    .dataframe tbody tr th {\n",
       "        vertical-align: top;\n",
       "    }\n",
       "\n",
       "    .dataframe thead th {\n",
       "        text-align: right;\n",
       "    }\n",
       "</style>\n",
       "<table border=\"1\" class=\"dataframe\">\n",
       "  <thead>\n",
       "    <tr style=\"text-align: right;\">\n",
       "      <th></th>\n",
       "      <th>bag_on_plane</th>\n",
       "      <th>0</th>\n",
       "      <th>1</th>\n",
       "      <th>2</th>\n",
       "      <th>3</th>\n",
       "      <th>4</th>\n",
       "      <th>5</th>\n",
       "      <th>6</th>\n",
       "      <th>7</th>\n",
       "      <th>8</th>\n",
       "      <th>9</th>\n",
       "      <th>10</th>\n",
       "    </tr>\n",
       "  </thead>\n",
       "  <tbody>\n",
       "    <tr>\n",
       "      <th>0</th>\n",
       "      <td>True</td>\n",
       "      <td>False</td>\n",
       "      <td>False</td>\n",
       "      <td>False</td>\n",
       "      <td>False</td>\n",
       "      <td>False</td>\n",
       "      <td>False</td>\n",
       "      <td>False</td>\n",
       "      <td>False</td>\n",
       "      <td>False</td>\n",
       "      <td>False</td>\n",
       "      <td>True</td>\n",
       "    </tr>\n",
       "    <tr>\n",
       "      <th>1</th>\n",
       "      <td>True</td>\n",
       "      <td>False</td>\n",
       "      <td>False</td>\n",
       "      <td>False</td>\n",
       "      <td>False</td>\n",
       "      <td>False</td>\n",
       "      <td>False</td>\n",
       "      <td>False</td>\n",
       "      <td>False</td>\n",
       "      <td>False</td>\n",
       "      <td>True</td>\n",
       "      <td>True</td>\n",
       "    </tr>\n",
       "    <tr>\n",
       "      <th>2</th>\n",
       "      <td>True</td>\n",
       "      <td>False</td>\n",
       "      <td>False</td>\n",
       "      <td>False</td>\n",
       "      <td>False</td>\n",
       "      <td>False</td>\n",
       "      <td>False</td>\n",
       "      <td>False</td>\n",
       "      <td>False</td>\n",
       "      <td>False</td>\n",
       "      <td>False</td>\n",
       "      <td>True</td>\n",
       "    </tr>\n",
       "    <tr>\n",
       "      <th>3</th>\n",
       "      <td>True</td>\n",
       "      <td>False</td>\n",
       "      <td>False</td>\n",
       "      <td>False</td>\n",
       "      <td>False</td>\n",
       "      <td>False</td>\n",
       "      <td>False</td>\n",
       "      <td>True</td>\n",
       "      <td>True</td>\n",
       "      <td>True</td>\n",
       "      <td>True</td>\n",
       "      <td>True</td>\n",
       "    </tr>\n",
       "    <tr>\n",
       "      <th>4</th>\n",
       "      <td>False</td>\n",
       "      <td>False</td>\n",
       "      <td>False</td>\n",
       "      <td>False</td>\n",
       "      <td>False</td>\n",
       "      <td>False</td>\n",
       "      <td>False</td>\n",
       "      <td>False</td>\n",
       "      <td>False</td>\n",
       "      <td>False</td>\n",
       "      <td>False</td>\n",
       "      <td>False</td>\n",
       "    </tr>\n",
       "    <tr>\n",
       "      <th>...</th>\n",
       "      <td>...</td>\n",
       "      <td>...</td>\n",
       "      <td>...</td>\n",
       "      <td>...</td>\n",
       "      <td>...</td>\n",
       "      <td>...</td>\n",
       "      <td>...</td>\n",
       "      <td>...</td>\n",
       "      <td>...</td>\n",
       "      <td>...</td>\n",
       "      <td>...</td>\n",
       "      <td>...</td>\n",
       "    </tr>\n",
       "    <tr>\n",
       "      <th>19995</th>\n",
       "      <td>False</td>\n",
       "      <td>False</td>\n",
       "      <td>False</td>\n",
       "      <td>False</td>\n",
       "      <td>False</td>\n",
       "      <td>False</td>\n",
       "      <td>False</td>\n",
       "      <td>False</td>\n",
       "      <td>False</td>\n",
       "      <td>False</td>\n",
       "      <td>False</td>\n",
       "      <td>False</td>\n",
       "    </tr>\n",
       "    <tr>\n",
       "      <th>19996</th>\n",
       "      <td>False</td>\n",
       "      <td>False</td>\n",
       "      <td>False</td>\n",
       "      <td>False</td>\n",
       "      <td>False</td>\n",
       "      <td>False</td>\n",
       "      <td>False</td>\n",
       "      <td>False</td>\n",
       "      <td>False</td>\n",
       "      <td>False</td>\n",
       "      <td>False</td>\n",
       "      <td>False</td>\n",
       "    </tr>\n",
       "    <tr>\n",
       "      <th>19997</th>\n",
       "      <td>False</td>\n",
       "      <td>False</td>\n",
       "      <td>False</td>\n",
       "      <td>False</td>\n",
       "      <td>False</td>\n",
       "      <td>False</td>\n",
       "      <td>False</td>\n",
       "      <td>False</td>\n",
       "      <td>False</td>\n",
       "      <td>False</td>\n",
       "      <td>False</td>\n",
       "      <td>False</td>\n",
       "    </tr>\n",
       "    <tr>\n",
       "      <th>19998</th>\n",
       "      <td>False</td>\n",
       "      <td>False</td>\n",
       "      <td>False</td>\n",
       "      <td>False</td>\n",
       "      <td>False</td>\n",
       "      <td>False</td>\n",
       "      <td>False</td>\n",
       "      <td>False</td>\n",
       "      <td>False</td>\n",
       "      <td>False</td>\n",
       "      <td>False</td>\n",
       "      <td>False</td>\n",
       "    </tr>\n",
       "    <tr>\n",
       "      <th>19999</th>\n",
       "      <td>True</td>\n",
       "      <td>False</td>\n",
       "      <td>False</td>\n",
       "      <td>False</td>\n",
       "      <td>True</td>\n",
       "      <td>True</td>\n",
       "      <td>True</td>\n",
       "      <td>True</td>\n",
       "      <td>True</td>\n",
       "      <td>True</td>\n",
       "      <td>True</td>\n",
       "      <td>True</td>\n",
       "    </tr>\n",
       "  </tbody>\n",
       "</table>\n",
       "<p>20000 rows × 12 columns</p>\n",
       "</div>"
      ],
      "text/plain": [
       "       bag_on_plane      0      1      2      3      4      5      6      7  \\\n",
       "0              True  False  False  False  False  False  False  False  False   \n",
       "1              True  False  False  False  False  False  False  False  False   \n",
       "2              True  False  False  False  False  False  False  False  False   \n",
       "3              True  False  False  False  False  False  False   True   True   \n",
       "4             False  False  False  False  False  False  False  False  False   \n",
       "...             ...    ...    ...    ...    ...    ...    ...    ...    ...   \n",
       "19995         False  False  False  False  False  False  False  False  False   \n",
       "19996         False  False  False  False  False  False  False  False  False   \n",
       "19997         False  False  False  False  False  False  False  False  False   \n",
       "19998         False  False  False  False  False  False  False  False  False   \n",
       "19999          True  False  False  False   True   True   True   True   True   \n",
       "\n",
       "           8      9     10  \n",
       "0      False  False   True  \n",
       "1      False   True   True  \n",
       "2      False  False   True  \n",
       "3       True   True   True  \n",
       "4      False  False  False  \n",
       "...      ...    ...    ...  \n",
       "19995  False  False  False  \n",
       "19996  False  False  False  \n",
       "19997  False  False  False  \n",
       "19998  False  False  False  \n",
       "19999   True   True   True  \n",
       "\n",
       "[20000 rows x 12 columns]"
      ]
     },
     "execution_count": 8,
     "metadata": {},
     "output_type": "execute_result"
    }
   ],
   "source": [
    "sim_df"
   ]
  },
  {
   "cell_type": "code",
   "execution_count": 9,
   "metadata": {},
   "outputs": [
    {
     "data": {
      "text/plain": [
       "<AxesSubplot:>"
      ]
     },
     "execution_count": 9,
     "metadata": {},
     "output_type": "execute_result"
    },
    {
     "data": {
      "image/png": "[encoded data removed]",
      "text/plain": [
       "<Figure size 432x288 with 1 Axes>"
      ]
     },
     "metadata": {
      "needs_background": "light"
     },
     "output_type": "display_data"
    }
   ],
   "source": [
    "sim_df.mean().plot.bar()"
   ]
  },
  {
   "cell_type": "code",
   "execution_count": 10,
   "metadata": {},
   "outputs": [
    {
     "data": {
      "text/html": [
       "<div>\n",
       "<style scoped>\n",
       "    .dataframe tbody tr th:only-of-type {\n",
       "        vertical-align: middle;\n",
       "    }\n",
       "\n",
       "    .dataframe tbody tr th {\n",
       "        vertical-align: top;\n",
       "    }\n",
       "\n",
       "    .dataframe thead th {\n",
       "        text-align: right;\n",
       "    }\n",
       "</style>\n",
       "<table border=\"1\" class=\"dataframe\">\n",
       "  <thead>\n",
       "    <tr style=\"text-align: right;\">\n",
       "      <th></th>\n",
       "      <th>0</th>\n",
       "      <th>1</th>\n",
       "      <th>2</th>\n",
       "      <th>3</th>\n",
       "      <th>4</th>\n",
       "      <th>5</th>\n",
       "      <th>6</th>\n",
       "      <th>7</th>\n",
       "      <th>8</th>\n",
       "      <th>9</th>\n",
       "      <th>10</th>\n",
       "    </tr>\n",
       "    <tr>\n",
       "      <th>bag_on_plane</th>\n",
       "      <th></th>\n",
       "      <th></th>\n",
       "      <th></th>\n",
       "      <th></th>\n",
       "      <th></th>\n",
       "      <th></th>\n",
       "      <th></th>\n",
       "      <th></th>\n",
       "      <th></th>\n",
       "      <th></th>\n",
       "      <th></th>\n",
       "    </tr>\n",
       "  </thead>\n",
       "  <tbody>\n",
       "    <tr>\n",
       "      <th>False</th>\n",
       "      <td>0.0</td>\n",
       "      <td>0.000000</td>\n",
       "      <td>0.00000</td>\n",
       "      <td>0.000000</td>\n",
       "      <td>0.00000</td>\n",
       "      <td>0.000000</td>\n",
       "      <td>0.000000</td>\n",
       "      <td>0.000000</td>\n",
       "      <td>0.000000</td>\n",
       "      <td>0.000000</td>\n",
       "      <td>0.0</td>\n",
       "    </tr>\n",
       "    <tr>\n",
       "      <th>True</th>\n",
       "      <td>0.0</td>\n",
       "      <td>0.099691</td>\n",
       "      <td>0.20237</td>\n",
       "      <td>0.301364</td>\n",
       "      <td>0.39747</td>\n",
       "      <td>0.497162</td>\n",
       "      <td>0.596654</td>\n",
       "      <td>0.694353</td>\n",
       "      <td>0.800219</td>\n",
       "      <td>0.898217</td>\n",
       "      <td>1.0</td>\n",
       "    </tr>\n",
       "  </tbody>\n",
       "</table>\n",
       "</div>"
      ],
      "text/plain": [
       "               0         1        2         3        4         5         6   \\\n",
       "bag_on_plane                                                                  \n",
       "False         0.0  0.000000  0.00000  0.000000  0.00000  0.000000  0.000000   \n",
       "True          0.0  0.099691  0.20237  0.301364  0.39747  0.497162  0.596654   \n",
       "\n",
       "                    7         8         9    10  \n",
       "bag_on_plane                                     \n",
       "False         0.000000  0.000000  0.000000  0.0  \n",
       "True          0.694353  0.800219  0.898217  1.0  "
      ]
     },
     "execution_count": 10,
     "metadata": {},
     "output_type": "execute_result"
    }
   ],
   "source": [
    "sim_df.groupby(\"bag_on_plane\").mean()"
   ]
  },
  {
   "cell_type": "markdown",
   "metadata": {},
   "source": [
    "## Simulation Results"
   ]
  },
  {
   "cell_type": "code",
   "execution_count": 11,
   "metadata": {},
   "outputs": [],
   "source": [
    "# sim_df.groupby(4).mean()"
   ]
  },
  {
   "cell_type": "code",
   "execution_count": 12,
   "metadata": {},
   "outputs": [],
   "source": [
    "true_solution = pd.Series(\n",
    "    {\n",
    "        i: sim_df.groupby(i).mean().loc[False, \"bag_on_plane\"]\n",
    "        for i in range(period_count)\n",
    "    }\n",
    ")  # .plot()"
   ]
  },
  {
   "cell_type": "markdown",
   "metadata": {},
   "source": [
    "# Solution"
   ]
  },
  {
   "cell_type": "markdown",
   "metadata": {},
   "source": [
    "$P(A\\mid B) = \\frac{P(B\\mid A)P(A)}{P(B)}$ "
   ]
  },
  {
   "cell_type": "markdown",
   "metadata": {},
   "source": [
    "- A: bag on plane\n",
    "- B: x minutes passed without bag showing up"
   ]
  },
  {
   "cell_type": "code",
   "execution_count": 19,
   "metadata": {},
   "outputs": [],
   "source": [
    "def get_nonupdated_solution(p_of_bag_on_plane=0.5):\n",
    "    priors = []\n",
    "    likelyhood_ratios = []\n",
    "    posteriors = []\n",
    "    evidence = []\n",
    "    likelyhood = []\n",
    "    for pba in no_bag_on_carousel_after_i_minutes_if_bag_on_plane:\n",
    "        # calculate\n",
    "        pb = (1 - p_of_bag_on_plane) + pba * p_of_bag_on_plane\n",
    "        next_p = pba * p_of_bag_on_plane / pb\n",
    "        # save variables\n",
    "        priors.append(p_of_bag_on_plane)\n",
    "        evidence.append(pb)\n",
    "        likelyhood.append(pba)\n",
    "        likelyhood_ratios.append(pba / pb)\n",
    "        posteriors.append(next_p)\n",
    "    return (\n",
    "        pd.Series(priors),\n",
    "        pd.Series(likelyhood_ratios),\n",
    "        pd.Series(posteriors),\n",
    "        pd.Series(likelyhood),\n",
    "        pd.Series(evidence),\n",
    "    )"
   ]
  },
  {
   "cell_type": "code",
   "execution_count": 20,
   "metadata": {},
   "outputs": [
    {
     "name": "stderr",
     "output_type": "stream",
     "text": [
      "<ipython-input-20-3aa88aff51d1>:1: RuntimeWarning: divide by zero encountered in true_divide\n",
      "  no_bag_on_carousel_after_i_minutes_if_bag_on_plane_if_it_was_not_on_carousel_in_previous_period = no_bag_on_carousel_after_i_minutes_if_bag_on_plane / np.roll(\n"
     ]
    }
   ],
   "source": [
    "no_bag_on_carousel_after_i_minutes_if_bag_on_plane_if_it_was_not_on_carousel_in_previous_period = no_bag_on_carousel_after_i_minutes_if_bag_on_plane / np.roll(\n",
    "    no_bag_on_carousel_after_i_minutes_if_bag_on_plane, shift=1\n",
    ")\n",
    "no_bag_on_carousel_after_i_minutes_if_bag_on_plane_if_it_was_not_on_carousel_in_previous_period[\n",
    "    0\n",
    "] = 1"
   ]
  },
  {
   "cell_type": "code",
   "execution_count": 21,
   "metadata": {},
   "outputs": [],
   "source": [
    "def get_updated_solution(p_of_bag_on_plane=0.5):\n",
    "    priors = []\n",
    "    likelyhood_ratios = []\n",
    "    posteriors = []\n",
    "    evidence = []\n",
    "    likelyhood = []\n",
    "    for (\n",
    "        pba\n",
    "    ) in no_bag_on_carousel_after_i_minutes_if_bag_on_plane_if_it_was_not_on_carousel_in_previous_period:\n",
    "        # calculate\n",
    "        pb = (1 - p_of_bag_on_plane) + pba * p_of_bag_on_plane\n",
    "        next_p = pba * p_of_bag_on_plane / pb\n",
    "        # save variables\n",
    "        priors.append(p_of_bag_on_plane)\n",
    "        evidence.append(pb)\n",
    "        likelyhood.append(pba)\n",
    "        likelyhood_ratios.append(pba / pb)\n",
    "        posteriors.append(next_p)\n",
    "        # update\n",
    "        p_of_bag_on_plane = next_p\n",
    "    return (\n",
    "        pd.Series(priors),\n",
    "        pd.Series(likelyhood_ratios),\n",
    "        pd.Series(posteriors),\n",
    "        pd.Series(likelyhood),\n",
    "        pd.Series(evidence),\n",
    "    )"
   ]
  },
  {
   "cell_type": "code",
   "execution_count": 22,
   "metadata": {},
   "outputs": [
    {
     "data": {
      "image/png": "[encoded data removed]",
      "text/plain": [
       "<Figure size 432x288 with 1 Axes>"
      ]
     },
     "metadata": {
      "needs_background": "light"
     },
     "output_type": "display_data"
    }
   ],
   "source": [
    "pd.DataFrame(\n",
    "    {\n",
    "        \"prior\": get_updated_solution()[0],\n",
    "        \"likelyhood ratio\": get_updated_solution()[1],\n",
    "        \"posterior\": get_updated_solution()[2],\n",
    "        \"likelyhood\": get_updated_solution()[3],\n",
    "        \"evidence\": get_updated_solution()[4],\n",
    "    }\n",
    ").plot()\n",
    "plt.title(\"With updated priors\")\n",
    "plt.show()"
   ]
  },
  {
   "cell_type": "code",
   "execution_count": 23,
   "metadata": {},
   "outputs": [
    {
     "data": {
      "image/png": "[encoded data removed]",
      "text/plain": [
       "<Figure size 432x288 with 1 Axes>"
      ]
     },
     "metadata": {
      "needs_background": "light"
     },
     "output_type": "display_data"
    }
   ],
   "source": [
    "pd.DataFrame(\n",
    "    {\n",
    "        \"prior\": get_nonupdated_solution()[0],\n",
    "        \"likelyhood ratio\": get_nonupdated_solution()[1],\n",
    "        \"posterior\": get_nonupdated_solution()[2],\n",
    "        \"likelyhood\": get_nonupdated_solution()[3],\n",
    "        \"evidence\": get_nonupdated_solution()[4],\n",
    "    }\n",
    ").plot()\n",
    "plt.title(\"With non-updated priors\")\n",
    "plt.show()"
   ]
  },
  {
   "cell_type": "code",
   "execution_count": null,
   "metadata": {},
   "outputs": [],
   "source": []
  }
 ],
 "metadata": {
  "kernelspec": {
   "display_name": "Python 3",
   "language": "python",
   "name": "python3"
  },
  "language_info": {
   "codemirror_mode": {
    "name": "ipython",
    "version": 3
   },
   "file_extension": ".py",
   "mimetype": "text/x-python",
   "name": "python",
   "nbconvert_exporter": "python",
   "pygments_lexer": "ipython3",
   "version": "3.8.6"
  }
 },
 "nbformat": 4,
 "nbformat_minor": 5
}
